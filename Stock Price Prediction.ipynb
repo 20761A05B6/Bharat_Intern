{
 "cells": [
  {
   "cell_type": "code",
   "execution_count": 4,
   "id": "30e037c7",
   "metadata": {},
   "outputs": [],
   "source": [
    "import numpy as np\n",
    "import pandas as pd\n",
    "import os\n",
    "import matplotlib.pyplot as plt\n",
    "%matplotlib inline"
   ]
  },
  {
   "cell_type": "code",
   "execution_count": 5,
   "id": "28f1a00e",
   "metadata": {},
   "outputs": [
    {
     "data": {
      "text/html": [
       "<div>\n",
       "<style scoped>\n",
       "    .dataframe tbody tr th:only-of-type {\n",
       "        vertical-align: middle;\n",
       "    }\n",
       "\n",
       "    .dataframe tbody tr th {\n",
       "        vertical-align: top;\n",
       "    }\n",
       "\n",
       "    .dataframe thead th {\n",
       "        text-align: right;\n",
       "    }\n",
       "</style>\n",
       "<table border=\"1\" class=\"dataframe\">\n",
       "  <thead>\n",
       "    <tr style=\"text-align: right;\">\n",
       "      <th></th>\n",
       "      <th>Date</th>\n",
       "      <th>Open</th>\n",
       "      <th>High</th>\n",
       "      <th>Low</th>\n",
       "      <th>Close</th>\n",
       "      <th>Adj Close</th>\n",
       "      <th>Volume</th>\n",
       "    </tr>\n",
       "  </thead>\n",
       "  <tbody>\n",
       "    <tr>\n",
       "      <th>0</th>\n",
       "      <td>2014-01-02</td>\n",
       "      <td>398.799988</td>\n",
       "      <td>399.359985</td>\n",
       "      <td>394.019989</td>\n",
       "      <td>397.970001</td>\n",
       "      <td>397.970001</td>\n",
       "      <td>2137800</td>\n",
       "    </tr>\n",
       "    <tr>\n",
       "      <th>1</th>\n",
       "      <td>2014-01-03</td>\n",
       "      <td>398.290009</td>\n",
       "      <td>402.709991</td>\n",
       "      <td>396.220001</td>\n",
       "      <td>396.440002</td>\n",
       "      <td>396.440002</td>\n",
       "      <td>2210200</td>\n",
       "    </tr>\n",
       "    <tr>\n",
       "      <th>2</th>\n",
       "      <td>2014-01-06</td>\n",
       "      <td>395.850006</td>\n",
       "      <td>397.000000</td>\n",
       "      <td>388.420013</td>\n",
       "      <td>393.630005</td>\n",
       "      <td>393.630005</td>\n",
       "      <td>3170600</td>\n",
       "    </tr>\n",
       "    <tr>\n",
       "      <th>3</th>\n",
       "      <td>2014-01-07</td>\n",
       "      <td>395.040009</td>\n",
       "      <td>398.470001</td>\n",
       "      <td>394.290009</td>\n",
       "      <td>398.029999</td>\n",
       "      <td>398.029999</td>\n",
       "      <td>1916000</td>\n",
       "    </tr>\n",
       "    <tr>\n",
       "      <th>4</th>\n",
       "      <td>2014-01-08</td>\n",
       "      <td>398.470001</td>\n",
       "      <td>403.000000</td>\n",
       "      <td>396.040009</td>\n",
       "      <td>401.920013</td>\n",
       "      <td>401.920013</td>\n",
       "      <td>2316500</td>\n",
       "    </tr>\n",
       "  </tbody>\n",
       "</table>\n",
       "</div>"
      ],
      "text/plain": [
       "         Date        Open        High         Low       Close   Adj Close  \\\n",
       "0  2014-01-02  398.799988  399.359985  394.019989  397.970001  397.970001   \n",
       "1  2014-01-03  398.290009  402.709991  396.220001  396.440002  396.440002   \n",
       "2  2014-01-06  395.850006  397.000000  388.420013  393.630005  393.630005   \n",
       "3  2014-01-07  395.040009  398.470001  394.290009  398.029999  398.029999   \n",
       "4  2014-01-08  398.470001  403.000000  396.040009  401.920013  401.920013   \n",
       "\n",
       "    Volume  \n",
       "0  2137800  \n",
       "1  2210200  \n",
       "2  3170600  \n",
       "3  1916000  \n",
       "4  2316500  "
      ]
     },
     "execution_count": 5,
     "metadata": {},
     "output_type": "execute_result"
    }
   ],
   "source": [
    "#Amazon Stock Price Prediction.\n",
    "data=pd.read_csv(\"AMZNtrain.csv\")\n",
    "data.head()"
   ]
  },
  {
   "cell_type": "code",
   "execution_count": 6,
   "id": "b65fa088",
   "metadata": {},
   "outputs": [
    {
     "name": "stdout",
     "output_type": "stream",
     "text": [
      "[[ 398.799988]\n",
      " [ 398.290009]\n",
      " [ 395.850006]\n",
      " ...\n",
      " [1454.199951]\n",
      " [1473.349976]\n",
      " [1510.800049]]\n",
      "(1258, 1)\n"
     ]
    }
   ],
   "source": [
    "train=data.iloc[:,1:2].values\n",
    "print(train)\n",
    "print(train.shape)"
   ]
  },
  {
   "cell_type": "code",
   "execution_count": 7,
   "id": "b25b4424",
   "metadata": {},
   "outputs": [
    {
     "data": {
      "text/plain": [
       "array([[0.06523313],\n",
       "       [0.06494233],\n",
       "       [0.06355099],\n",
       "       ...,\n",
       "       [0.66704299],\n",
       "       [0.67796271],\n",
       "       [0.69931748]])"
      ]
     },
     "execution_count": 7,
     "metadata": {},
     "output_type": "execute_result"
    }
   ],
   "source": [
    "from sklearn.preprocessing import MinMaxScaler\n",
    "scaler=MinMaxScaler(feature_range=(0,1))\n",
    "scale_train=scaler.fit_transform(train)\n",
    "scale_train"
   ]
  },
  {
   "cell_type": "code",
   "execution_count": 10,
   "id": "62072af8",
   "metadata": {},
   "outputs": [
    {
     "name": "stdout",
     "output_type": "stream",
     "text": [
      "(1198, 60)\n",
      "(1198,)\n"
     ]
    }
   ],
   "source": [
    "x_train=[]\n",
    "y_train=[]\n",
    "for i in range(60,1258):\n",
    "    x_train.append(scale_train[i-60:i,0])\n",
    "    y_train.append(scale_train[i,0])\n",
    "x_train=np.array(x_train)\n",
    "y_train=np.array(y_train)\n",
    "print(x_train.shape)\n",
    "print(y_train.shape)"
   ]
  },
  {
   "cell_type": "code",
   "execution_count": 11,
   "id": "541834db",
   "metadata": {},
   "outputs": [
    {
     "data": {
      "text/plain": [
       "(1198, 60, 1)"
      ]
     },
     "execution_count": 11,
     "metadata": {},
     "output_type": "execute_result"
    }
   ],
   "source": [
    "x_train=np.reshape(x_train,(x_train.shape[0],x_train.shape[1],1))\n",
    "x_train.shape"
   ]
  },
  {
   "cell_type": "code",
   "execution_count": null,
   "id": "f254ad6e",
   "metadata": {},
   "outputs": [],
   "source": []
  },
  {
   "cell_type": "code",
   "execution_count": 12,
   "id": "20cf03b4",
   "metadata": {},
   "outputs": [],
   "source": [
    "from keras.models import Sequential\n",
    "from keras.layers import LSTM\n",
    "from keras.layers import Dense\n",
    "from keras.layers import Dropout"
   ]
  },
  {
   "cell_type": "code",
   "execution_count": 13,
   "id": "af8ce460",
   "metadata": {},
   "outputs": [],
   "source": [
    "regressor=Sequential()\n",
    "regressor.add(LSTM(units=50,return_sequences=True,input_shape=(x_train.shape[1],1)))\n",
    "regressor.add(Dropout(0.2))\n",
    "regressor.add(LSTM(units=50,return_sequences=True))\n",
    "regressor.add(Dropout(0.2))\n",
    "regressor.add(LSTM(units=50,return_sequences=True))\n",
    "regressor.add(Dropout(0.2))\n",
    "regressor.add(LSTM(units=50))\n",
    "regressor.add(Dropout(0.2))\n",
    "regressor.add(Dense(units=1))"
   ]
  },
  {
   "cell_type": "code",
   "execution_count": 14,
   "id": "ade90de5",
   "metadata": {},
   "outputs": [
    {
     "name": "stdout",
     "output_type": "stream",
     "text": [
      "Epoch 1/100\n",
      "38/38 [==============================] - 10s 76ms/step - loss: 0.0221\n",
      "Epoch 2/100\n",
      "38/38 [==============================] - 3s 73ms/step - loss: 0.0036\n",
      "Epoch 3/100\n",
      "38/38 [==============================] - 3s 73ms/step - loss: 0.0031\n",
      "Epoch 4/100\n",
      "38/38 [==============================] - 3s 68ms/step - loss: 0.0030\n",
      "Epoch 5/100\n",
      "38/38 [==============================] - 3s 81ms/step - loss: 0.0029\n",
      "Epoch 6/100\n",
      "38/38 [==============================] - 3s 82ms/step - loss: 0.0027\n",
      "Epoch 7/100\n",
      "38/38 [==============================] - 3s 82ms/step - loss: 0.0029\n",
      "Epoch 8/100\n",
      "38/38 [==============================] - 3s 82ms/step - loss: 0.0025\n",
      "Epoch 9/100\n",
      "38/38 [==============================] - 3s 81ms/step - loss: 0.0023\n",
      "Epoch 10/100\n",
      "38/38 [==============================] - 3s 81ms/step - loss: 0.0020\n",
      "Epoch 11/100\n",
      "38/38 [==============================] - 3s 80ms/step - loss: 0.0028\n",
      "Epoch 12/100\n",
      "38/38 [==============================] - 3s 83ms/step - loss: 0.0025\n",
      "Epoch 13/100\n",
      "38/38 [==============================] - 3s 90ms/step - loss: 0.0023\n",
      "Epoch 14/100\n",
      "38/38 [==============================] - 3s 86ms/step - loss: 0.0022\n",
      "Epoch 15/100\n",
      "38/38 [==============================] - 3s 81ms/step - loss: 0.0023\n",
      "Epoch 16/100\n",
      "38/38 [==============================] - 3s 80ms/step - loss: 0.0022\n",
      "Epoch 17/100\n",
      "38/38 [==============================] - 3s 81ms/step - loss: 0.0020\n",
      "Epoch 18/100\n",
      "38/38 [==============================] - 3s 81ms/step - loss: 0.0022\n",
      "Epoch 19/100\n",
      "38/38 [==============================] - 3s 79ms/step - loss: 0.0021\n",
      "Epoch 20/100\n",
      "38/38 [==============================] - 3s 87ms/step - loss: 0.0025\n",
      "Epoch 21/100\n",
      "38/38 [==============================] - 3s 81ms/step - loss: 0.0017\n",
      "Epoch 22/100\n",
      "38/38 [==============================] - 3s 81ms/step - loss: 0.0021\n",
      "Epoch 23/100\n",
      "38/38 [==============================] - 3s 82ms/step - loss: 0.0019\n",
      "Epoch 24/100\n",
      "38/38 [==============================] - 3s 81ms/step - loss: 0.0018\n",
      "Epoch 25/100\n",
      "38/38 [==============================] - 3s 80ms/step - loss: 0.0020\n",
      "Epoch 26/100\n",
      "38/38 [==============================] - 3s 80ms/step - loss: 0.0018\n",
      "Epoch 27/100\n",
      "38/38 [==============================] - 3s 79ms/step - loss: 0.0024\n",
      "Epoch 28/100\n",
      "38/38 [==============================] - 3s 80ms/step - loss: 0.0017\n",
      "Epoch 29/100\n",
      "38/38 [==============================] - 3s 80ms/step - loss: 0.0019\n",
      "Epoch 30/100\n",
      "38/38 [==============================] - 3s 86ms/step - loss: 0.0017\n",
      "Epoch 31/100\n",
      "38/38 [==============================] - 3s 91ms/step - loss: 0.0020\n",
      "Epoch 32/100\n",
      "38/38 [==============================] - 4s 95ms/step - loss: 0.0018\n",
      "Epoch 33/100\n",
      "38/38 [==============================] - 4s 95ms/step - loss: 0.0019\n",
      "Epoch 34/100\n",
      "38/38 [==============================] - 4s 92ms/step - loss: 0.0018\n",
      "Epoch 35/100\n",
      "38/38 [==============================] - 4s 93ms/step - loss: 0.0017\n",
      "Epoch 36/100\n",
      "38/38 [==============================] - 4s 92ms/step - loss: 0.0016\n",
      "Epoch 37/100\n",
      "38/38 [==============================] - 3s 91ms/step - loss: 0.0022\n",
      "Epoch 38/100\n",
      "38/38 [==============================] - 3s 91ms/step - loss: 0.0016\n",
      "Epoch 39/100\n",
      "38/38 [==============================] - 3s 89ms/step - loss: 0.0017\n",
      "Epoch 40/100\n",
      "38/38 [==============================] - 3s 84ms/step - loss: 0.0015\n",
      "Epoch 41/100\n",
      "38/38 [==============================] - 3s 81ms/step - loss: 0.0016\n",
      "Epoch 42/100\n",
      "38/38 [==============================] - 3s 82ms/step - loss: 0.0015\n",
      "Epoch 43/100\n",
      "38/38 [==============================] - 3s 81ms/step - loss: 0.0017\n",
      "Epoch 44/100\n",
      "38/38 [==============================] - 3s 81ms/step - loss: 0.0016\n",
      "Epoch 45/100\n",
      "38/38 [==============================] - 3s 81ms/step - loss: 0.0016\n",
      "Epoch 46/100\n",
      "38/38 [==============================] - 3s 81ms/step - loss: 0.0015\n",
      "Epoch 47/100\n",
      "38/38 [==============================] - 3s 82ms/step - loss: 0.0018\n",
      "Epoch 48/100\n",
      "38/38 [==============================] - 3s 82ms/step - loss: 0.0014\n",
      "Epoch 49/100\n",
      "38/38 [==============================] - 3s 81ms/step - loss: 0.0014\n",
      "Epoch 50/100\n",
      "38/38 [==============================] - 3s 81ms/step - loss: 0.0015\n",
      "Epoch 51/100\n",
      "38/38 [==============================] - 3s 81ms/step - loss: 0.0016\n",
      "Epoch 52/100\n",
      "38/38 [==============================] - 3s 84ms/step - loss: 0.0015\n",
      "Epoch 53/100\n",
      "38/38 [==============================] - 3s 83ms/step - loss: 0.0013\n",
      "Epoch 54/100\n",
      "38/38 [==============================] - 3s 83ms/step - loss: 0.0016\n",
      "Epoch 55/100\n",
      "38/38 [==============================] - 3s 82ms/step - loss: 0.0014\n",
      "Epoch 56/100\n",
      "38/38 [==============================] - 3s 82ms/step - loss: 0.0013\n",
      "Epoch 57/100\n",
      "38/38 [==============================] - 3s 82ms/step - loss: 0.0013\n",
      "Epoch 58/100\n",
      "38/38 [==============================] - 3s 82ms/step - loss: 0.0013\n",
      "Epoch 59/100\n",
      "38/38 [==============================] - 3s 84ms/step - loss: 0.0014\n",
      "Epoch 60/100\n",
      "38/38 [==============================] - 3s 81ms/step - loss: 0.0015\n",
      "Epoch 61/100\n",
      "38/38 [==============================] - 3s 81ms/step - loss: 0.0011\n",
      "Epoch 62/100\n",
      "38/38 [==============================] - 3s 82ms/step - loss: 0.0014\n",
      "Epoch 63/100\n",
      "38/38 [==============================] - 3s 81ms/step - loss: 0.0015\n",
      "Epoch 64/100\n",
      "38/38 [==============================] - 3s 81ms/step - loss: 0.0013\n",
      "Epoch 65/100\n",
      "38/38 [==============================] - 3s 81ms/step - loss: 0.0014\n",
      "Epoch 66/100\n",
      "38/38 [==============================] - 3s 83ms/step - loss: 0.0015\n",
      "Epoch 67/100\n",
      "38/38 [==============================] - 3s 83ms/step - loss: 0.0013\n",
      "Epoch 68/100\n",
      "38/38 [==============================] - 3s 83ms/step - loss: 0.0013\n",
      "Epoch 69/100\n",
      "38/38 [==============================] - 3s 84ms/step - loss: 0.0012\n",
      "Epoch 70/100\n",
      "38/38 [==============================] - 3s 82ms/step - loss: 0.0012\n",
      "Epoch 71/100\n",
      "38/38 [==============================] - 3s 81ms/step - loss: 0.0012\n",
      "Epoch 72/100\n",
      "38/38 [==============================] - 3s 86ms/step - loss: 0.0014\n",
      "Epoch 73/100\n",
      "38/38 [==============================] - 3s 82ms/step - loss: 0.0011\n",
      "Epoch 74/100\n",
      "38/38 [==============================] - 3s 81ms/step - loss: 0.0011\n",
      "Epoch 75/100\n",
      "38/38 [==============================] - 3s 81ms/step - loss: 0.0014\n",
      "Epoch 76/100\n",
      "38/38 [==============================] - 3s 81ms/step - loss: 0.0011\n",
      "Epoch 77/100\n",
      "38/38 [==============================] - 3s 84ms/step - loss: 0.0015\n",
      "Epoch 78/100\n",
      "38/38 [==============================] - 3s 82ms/step - loss: 0.0014\n",
      "Epoch 79/100\n",
      "38/38 [==============================] - 3s 84ms/step - loss: 0.0012\n",
      "Epoch 80/100\n",
      "38/38 [==============================] - 3s 88ms/step - loss: 0.0012\n",
      "Epoch 81/100\n",
      "38/38 [==============================] - 3s 90ms/step - loss: 0.0012\n",
      "Epoch 82/100\n",
      "38/38 [==============================] - 3s 86ms/step - loss: 9.8868e-04\n",
      "Epoch 83/100\n",
      "38/38 [==============================] - 3s 86ms/step - loss: 0.0011\n",
      "Epoch 84/100\n",
      "38/38 [==============================] - 4s 96ms/step - loss: 0.0013\n",
      "Epoch 85/100\n",
      "38/38 [==============================] - 3s 84ms/step - loss: 0.0013\n",
      "Epoch 86/100\n",
      "38/38 [==============================] - 3s 87ms/step - loss: 0.0012\n",
      "Epoch 87/100\n",
      "38/38 [==============================] - 3s 82ms/step - loss: 0.0012\n",
      "Epoch 88/100\n",
      "38/38 [==============================] - 3s 81ms/step - loss: 0.0011\n",
      "Epoch 89/100\n",
      "38/38 [==============================] - 3s 81ms/step - loss: 0.0011\n",
      "Epoch 90/100\n",
      "38/38 [==============================] - 3s 82ms/step - loss: 0.0011\n",
      "Epoch 91/100\n",
      "38/38 [==============================] - 3s 81ms/step - loss: 0.0012\n",
      "Epoch 92/100\n",
      "38/38 [==============================] - 3s 85ms/step - loss: 0.0010\n",
      "Epoch 93/100\n",
      "38/38 [==============================] - 3s 82ms/step - loss: 9.6894e-04\n",
      "Epoch 94/100\n",
      "38/38 [==============================] - 3s 81ms/step - loss: 0.0011\n",
      "Epoch 95/100\n",
      "38/38 [==============================] - 3s 82ms/step - loss: 0.0012\n",
      "Epoch 96/100\n",
      "38/38 [==============================] - 3s 81ms/step - loss: 0.0012\n",
      "Epoch 97/100\n",
      "38/38 [==============================] - 3s 82ms/step - loss: 0.0013\n",
      "Epoch 98/100\n",
      "38/38 [==============================] - 3s 81ms/step - loss: 0.0012\n",
      "Epoch 99/100\n",
      "38/38 [==============================] - 3s 82ms/step - loss: 0.0012\n",
      "Epoch 100/100\n"
     ]
    },
    {
     "name": "stdout",
     "output_type": "stream",
     "text": [
      "38/38 [==============================] - 3s 78ms/step - loss: 0.0012\n"
     ]
    },
    {
     "data": {
      "text/plain": [
       "<keras.src.callbacks.History at 0x181306b8760>"
      ]
     },
     "execution_count": 14,
     "metadata": {},
     "output_type": "execute_result"
    }
   ],
   "source": [
    "regressor.compile(optimizer='adam',loss='mean_squared_error')\n",
    "regressor.fit(x_train,y_train,epochs=100,batch_size=32)"
   ]
  },
  {
   "cell_type": "code",
   "execution_count": 15,
   "id": "c806778f",
   "metadata": {},
   "outputs": [],
   "source": [
    "data_t=pd.read_csv(\"AMZNtest.csv\")\n",
    "actual_stock_price=data_t.iloc[:,1:2].values"
   ]
  },
  {
   "cell_type": "code",
   "execution_count": 17,
   "id": "843fe0d6",
   "metadata": {},
   "outputs": [],
   "source": [
    "data_total=pd.concat((data['Open'],data_t['Open']),axis=0)\n",
    "inputs=data_total[len(data_total)-len(data_t)-60:].values\n",
    "inputs=inputs.reshape(-1,1)\n",
    "inputs=scaler.transform(inputs)\n",
    "x_test=[]\n",
    "for i in range(60,80):\n",
    "    x_test.append(inputs[i-60:i,0])\n",
    "x_test=np.array(x_test)\n",
    "x_test=np.reshape(x_test,(x_test.shape[0],x_test.shape[1],1))"
   ]
  },
  {
   "cell_type": "code",
   "execution_count": 18,
   "id": "e81352c9",
   "metadata": {},
   "outputs": [
    {
     "name": "stdout",
     "output_type": "stream",
     "text": [
      "1/1 [==============================] - 1s 1s/step\n"
     ]
    }
   ],
   "source": [
    "predicted_stock_price=regressor.predict(x_test)\n",
    "predicted_stock_price=scaler.inverse_transform(predicted_stock_price)"
   ]
  },
  {
   "cell_type": "code",
   "execution_count": 19,
   "id": "3744eb78",
   "metadata": {},
   "outputs": [
    {
     "data": {
      "text/plain": [
       "<matplotlib.legend.Legend at 0x1813f99ffa0>"
      ]
     },
     "execution_count": 19,
     "metadata": {},
     "output_type": "execute_result"
    },
    {
     "data": {
      "image/png": "[encoded data removed]",
      "text/plain": [
       "<Figure size 640x480 with 1 Axes>"
      ]
     },
     "metadata": {},
     "output_type": "display_data"
    }
   ],
   "source": [
    "plt.plot(actual_stock_price,color='red',label=\"Actual Amazon Stock Price\")\n",
    "plt.plot(predicted_stock_price,color='blue',label=\"Predicted Amazon Stock Price\")\n",
    "plt.title(\"Amazon Stock Price Prediction\")\n",
    "plt.xlabel(\"Time\")\n",
    "plt.ylabel(\"Amazon Stock Price\")\n",
    "plt.legend()"
   ]
  },
  {
   "cell_type": "code",
   "execution_count": null,
   "id": "9d47455e",
   "metadata": {},
   "outputs": [],
   "source": [
    "#The model can predict the trend of the actual stock prices very closely. \n",
    "#The accuracy of the model can be enhanced by training with more data and increasing the LSTM layers."
   ]
  }
 ],
 "metadata": {
  "kernelspec": {
   "display_name": "Python 3 (ipykernel)",
   "language": "python",
   "name": "python3"
  },
  "language_info": {
   "codemirror_mode": {
    "name": "ipython",
    "version": 3
   },
   "file_extension": ".py",
   "mimetype": "text/x-python",
   "name": "python",
   "nbconvert_exporter": "python",
   "pygments_lexer": "ipython3",
   "version": "3.10.9"
  }
 },
 "nbformat": 4,
 "nbformat_minor": 5
}
